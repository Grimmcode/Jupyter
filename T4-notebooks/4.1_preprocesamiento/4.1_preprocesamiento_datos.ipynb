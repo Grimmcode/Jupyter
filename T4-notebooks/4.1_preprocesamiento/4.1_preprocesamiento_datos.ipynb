{
 "cells": [
  {
   "cell_type": "markdown",
   "metadata": {
    "colab_type": "text",
    "id": "37puETfgRzzg"
   },
   "source": [
    "# Introducción Machine Learning - Preprocesamiento de datos"
   ]
  },
  {
   "cell_type": "markdown",
   "metadata": {
    "colab_type": "text",
    "id": "EoRP98MpR-qj"
   },
   "source": [
    "## Importación de las bibliotecas"
   ]
  },
  {
   "cell_type": "code",
   "execution_count": null,
   "metadata": {
    "colab": {},
    "colab_type": "code",
    "id": "N-qiINBQSK2g"
   },
   "outputs": [],
   "source": [
    "import numpy as np #arrays\n",
    "import matplotlib.pyplot as plt #plot de gráficos\n",
    "import pandas as pd #matriz de caracteristicas"
   ]
  },
  {
   "cell_type": "markdown",
   "metadata": {
    "colab_type": "text",
    "id": "RopL7tUZSQkT"
   },
   "source": [
    "## Importación del dataset"
   ]
  },
  {
   "cell_type": "code",
   "execution_count": null,
   "metadata": {
    "colab": {},
    "colab_type": "code",
    "id": "WwEPNDWySTKm"
   },
   "outputs": [],
   "source": [
    "dataset = pd.read_csv('Datos.csv')\n",
    "dataset\n",
    "#¿Cuáles son las características? ¿Y la variable dependiente?"
   ]
  },
  {
   "cell_type": "code",
   "execution_count": null,
   "metadata": {},
   "outputs": [],
   "source": [
    "X = dataset.iloc[:, :-1].values #¿qué hace la función iloc en este caso?\n",
    "y = dataset.iloc[:, -1].values"
   ]
  },
  {
   "cell_type": "code",
   "execution_count": null,
   "metadata": {
    "colab": {
     "base_uri": "https://localhost:8080/",
     "height": 188
    },
    "colab_type": "code",
    "executionInfo": {
     "elapsed": 895,
     "status": "ok",
     "timestamp": 1587622253093,
     "user": {
      "displayName": "Hadelin de Ponteves",
      "photoUrl": "https://lh3.googleusercontent.com/a-/AOh14GhEuXdT7eQweUmRPW8_laJuPggSK6hfvpl5a6WBaA=s64",
      "userId": "15047218817161520419"
     },
     "user_tz": -240
    },
    "id": "hCsz2yCebe1R",
    "outputId": "1e4cc568-4e51-4b38-9d46-4aa3f15204be"
   },
   "outputs": [],
   "source": [
    "print(X)"
   ]
  },
  {
   "cell_type": "code",
   "execution_count": null,
   "metadata": {
    "colab": {
     "base_uri": "https://localhost:8080/",
     "height": 34
    },
    "colab_type": "code",
    "executionInfo": {
     "elapsed": 656,
     "status": "ok",
     "timestamp": 1587622256072,
     "user": {
      "displayName": "Hadelin de Ponteves",
      "photoUrl": "https://lh3.googleusercontent.com/a-/AOh14GhEuXdT7eQweUmRPW8_laJuPggSK6hfvpl5a6WBaA=s64",
      "userId": "15047218817161520419"
     },
     "user_tz": -240
    },
    "id": "eYrOQ43XcJR3",
    "outputId": "e0873b2a-3b08-4bab-ef0d-15b88858ca44"
   },
   "outputs": [],
   "source": [
    "print(y)"
   ]
  },
  {
   "cell_type": "markdown",
   "metadata": {
    "colab_type": "text",
    "id": "nhfKXNxlSabC"
   },
   "source": [
    "## ¿Qué hacemos con los datos que faltan?"
   ]
  },
  {
   "cell_type": "markdown",
   "metadata": {},
   "source": [
    "Se puede observar que el salario del quinto registro y la edad de septimo registro faltan (NaN). \n",
    "Qúe opciones tenemos?\n",
    "\n",
    "    1. Eliminar el datos (recomendable cuando tenemos muchos datos)\n",
    "    2. Interpolar (p.ej. con la media de la columna)"
   ]
  },
  {
   "cell_type": "code",
   "execution_count": null,
   "metadata": {
    "colab": {},
    "colab_type": "code",
    "id": "c93k7ipkSexq"
   },
   "outputs": [],
   "source": [
    "from sklearn.impute import SimpleImputer #importamos la clase \"SimpleImputer\" del modulo \n",
    "#\"impute\" para poder completar los valores que faltan.\n",
    "\n",
    "imputer = SimpleImputer(missing_values=np.nan, strategy='mean') # una instancia (objecto) \n",
    "#de la clase \"SimpleImputer\" -> #¿Con qué reemplazamos los valores \"NaN\"?\n",
    "\n",
    "imputer.fit(X[:, 1:3]) #conectamos el objeto \"imputer\" a la matriz de caracteristicas X \n",
    "#mediante el metodo \"fit\" (aplicamos \"fit\") \n",
    "#¿A qué elementos lo aplicamos?\n",
    "\n",
    "X[:, 1:3] = imputer.transform(X[:, 1:3]) #sobreescribimos los valores NaN de X[:, 1:3] "
   ]
  },
  {
   "cell_type": "code",
   "execution_count": null,
   "metadata": {
    "colab": {
     "base_uri": "https://localhost:8080/",
     "height": 188
    },
    "colab_type": "code",
    "executionInfo": {
     "elapsed": 919,
     "status": "ok",
     "timestamp": 1587622284427,
     "user": {
      "displayName": "Hadelin de Ponteves",
      "photoUrl": "https://lh3.googleusercontent.com/a-/AOh14GhEuXdT7eQweUmRPW8_laJuPggSK6hfvpl5a6WBaA=s64",
      "userId": "15047218817161520419"
     },
     "user_tz": -240
    },
    "id": "3UgLdMS_bjq_",
    "outputId": "254af4e0-681e-47f5-aaa7-b9c6f43258e9"
   },
   "outputs": [],
   "source": [
    "print(X)\n",
    "#¿Qué ha devuelto el comando anterior?"
   ]
  },
  {
   "cell_type": "markdown",
   "metadata": {
    "colab_type": "text",
    "id": "CriG6VzVSjcK"
   },
   "source": [
    "## Codificación (Encoding) de datos categóricos\n",
    "\n",
    "Los ordenadores trabajan mejor con numeros. \n",
    "Podriamos codificar Alemania, España y Francia con \"1, 2, 3\", pero no es nada recomendable (el ordenador podria pensar que existe alguna relacion. Se recomienda hacerlo con el metodo \"OneHotEncoder\".\n",
    "\n",
    "¿Qué hará en nuestro caso? Transforma 1 columna en 3 columnas (porque tenemos 3 variables).\n",
    "Si tendriamos 5, tansformaría en 5 columnas. \n",
    "Este método crea vectores binarios para cada pais. P.ej. Francia tendría asignato el vector [1 , 0 0] , Espanya [0,1,0] y Alemania [0,0,1]. \n",
    "\n",
    "### Codificación (Encoding) de la variable independiente (X = matriz de caracteristicas)"
   ]
  },
  {
   "cell_type": "code",
   "execution_count": null,
   "metadata": {
    "colab": {},
    "colab_type": "code",
    "id": "5hwuVddlSwVi"
   },
   "outputs": [],
   "source": [
    "#importacion de la clase \"ColumnTransformer\" del modulo \"compose\"\n",
    "from sklearn.compose import ColumnTransformer  \n",
    "\n",
    "#importacion de la clase \"OneHotEncoder\" del modulo \"preprocesing\"\n",
    "from sklearn.preprocessing import OneHotEncoder \n",
    "\n",
    "ct = ColumnTransformer(transformers=[('encoder', OneHotEncoder(), [0])], remainder='passthrough')\n",
    "\n",
    "#creamos un objeto \"ct\", una instacia de la clase \"column transformers\". \n",
    "#1er argumento = el tipo de transformacion (encoder), que tipo de encoding (onehotencoding), y la columna donde queremos aplicarlo (0) \n",
    "#el 2do argumento = el resto de las columnas (por donde no pasa el encoder) las queremos guardar. Si no especificamos, solo guarda las columnas codificadas\n",
    "\n",
    "X = np.array(ct.fit_transform(X))\n",
    "#en este caso podemos aplicar el metodo fit_transform, para ahorrar seguir los 2 pasos (el de fit y luego transform)\n",
    "# \"X =\" reemplazamos la matriz de caracteristicas inicial\n",
    "#El np.array transforma el resultado en un array numpy que permita entrenar más rapidamente. "
   ]
  },
  {
   "cell_type": "code",
   "execution_count": null,
   "metadata": {
    "colab": {
     "base_uri": "https://localhost:8080/",
     "height": 188
    },
    "colab_type": "code",
    "executionInfo": {
     "elapsed": 570,
     "status": "ok",
     "timestamp": 1587622291650,
     "user": {
      "displayName": "Hadelin de Ponteves",
      "photoUrl": "https://lh3.googleusercontent.com/a-/AOh14GhEuXdT7eQweUmRPW8_laJuPggSK6hfvpl5a6WBaA=s64",
      "userId": "15047218817161520419"
     },
     "user_tz": -240
    },
    "id": "f7QspewyeBfx",
    "outputId": "5b35feef-7fe2-46ef-ce70-80495f94f4ed"
   },
   "outputs": [],
   "source": [
    "print(X)"
   ]
  },
  {
   "cell_type": "markdown",
   "metadata": {
    "colab_type": "text",
    "id": "DXh8oVSITIc6"
   },
   "source": [
    "### Codificación (Encoding) de la variable dependiente (y)"
   ]
  },
  {
   "cell_type": "code",
   "execution_count": null,
   "metadata": {
    "colab": {},
    "colab_type": "code",
    "id": "XgHCShVyTOYY"
   },
   "outputs": [],
   "source": [
    "from sklearn.preprocessing import LabelEncoder #importacion de la clase \"LabelEncoder\"\n",
    "\n",
    "le = LabelEncoder() #objeto le. no debemos especificar ningun argumento,\n",
    "#porque \"y\" es un array de dimension 1\n",
    "\n",
    "y = le.fit_transform(y) # reemplazamos y por el objeto labelEncoder \n",
    "#(con el metodo fit_transform)"
   ]
  },
  {
   "cell_type": "code",
   "execution_count": null,
   "metadata": {
    "colab": {
     "base_uri": "https://localhost:8080/",
     "height": 34
    },
    "colab_type": "code",
    "executionInfo": {
     "elapsed": 657,
     "status": "ok",
     "timestamp": 1587622297024,
     "user": {
      "displayName": "Hadelin de Ponteves",
      "photoUrl": "https://lh3.googleusercontent.com/a-/AOh14GhEuXdT7eQweUmRPW8_laJuPggSK6hfvpl5a6WBaA=s64",
      "userId": "15047218817161520419"
     },
     "user_tz": -240
    },
    "id": "FyhY8-gPpFCa",
    "outputId": "7f76ef29-5423-4c3e-cf69-45fbc366a997"
   },
   "outputs": [],
   "source": [
    "print(y)"
   ]
  },
  {
   "cell_type": "markdown",
   "metadata": {
    "colab_type": "text",
    "id": "qb_vcgm3qZKW"
   },
   "source": [
    "## División del dataset en el conjunto de entrenamiento y el conjunto de prueba (Training set and Test set)"
   ]
  },
  {
   "cell_type": "code",
   "execution_count": null,
   "metadata": {
    "colab": {},
    "colab_type": "code",
    "id": "pXgA6CzlqbCl"
   },
   "outputs": [],
   "source": [
    "from sklearn.model_selection import train_test_split #ya existe una funcion implementada que hace la división del dataset\n",
    "\n",
    "X_train, X_test, y_train, y_test = train_test_split(X, y, test_size = 0.2, random_state = 1)\n",
    "#1. ¿Cúal es el ratio de división? \n",
    "#2. ¿qué parametros toma esta funccíon?\n",
    "\n",
    "#Obs: random_state = para  utilizado para reproducir su problema de la misma manera cada\n",
    "#vez que ejecutamos. \n",
    "#3. ¿si ejecutamos una vez más este codigo, obtenemos los mismos sets? y\n",
    "#4. ¿y si cambiamos el valor de random_state a 5?"
   ]
  },
  {
   "cell_type": "code",
   "execution_count": null,
   "metadata": {
    "colab": {
     "base_uri": "https://localhost:8080/",
     "height": 154
    },
    "colab_type": "code",
    "executionInfo": {
     "elapsed": 597,
     "status": "ok",
     "timestamp": 1587622301522,
     "user": {
      "displayName": "Hadelin de Ponteves",
      "photoUrl": "https://lh3.googleusercontent.com/a-/AOh14GhEuXdT7eQweUmRPW8_laJuPggSK6hfvpl5a6WBaA=s64",
      "userId": "15047218817161520419"
     },
     "user_tz": -240
    },
    "id": "GuwQhFdKrYTM",
    "outputId": "de1e527f-c229-4daf-e7c5-ea9d2485148d"
   },
   "outputs": [],
   "source": [
    "print(X_train)\n",
    "#1. ¿qué informacion guarda X_train? \n",
    "#2. ¿a qué se refieren las primera 3 columnas?"
   ]
  },
  {
   "cell_type": "code",
   "execution_count": null,
   "metadata": {
    "colab": {
     "base_uri": "https://localhost:8080/",
     "height": 51
    },
    "colab_type": "code",
    "executionInfo": {
     "elapsed": 835,
     "status": "ok",
     "timestamp": 1587622305066,
     "user": {
      "displayName": "Hadelin de Ponteves",
      "photoUrl": "https://lh3.googleusercontent.com/a-/AOh14GhEuXdT7eQweUmRPW8_laJuPggSK6hfvpl5a6WBaA=s64",
      "userId": "15047218817161520419"
     },
     "user_tz": -240
    },
    "id": "TUrX_Tvcrbi4",
    "outputId": "9a041a9b-2642-4828-fa2f-a431d7d77631"
   },
   "outputs": [],
   "source": [
    "print(X_test)"
   ]
  },
  {
   "cell_type": "code",
   "execution_count": null,
   "metadata": {
    "colab": {
     "base_uri": "https://localhost:8080/",
     "height": 34
    },
    "colab_type": "code",
    "executionInfo": {
     "elapsed": 536,
     "status": "ok",
     "timestamp": 1587622306938,
     "user": {
      "displayName": "Hadelin de Ponteves",
      "photoUrl": "https://lh3.googleusercontent.com/a-/AOh14GhEuXdT7eQweUmRPW8_laJuPggSK6hfvpl5a6WBaA=s64",
      "userId": "15047218817161520419"
     },
     "user_tz": -240
    },
    "id": "pSMHiIsWreQY",
    "outputId": "5afe91e0-9244-4bf5-ec1b-e3e092b85c08"
   },
   "outputs": [],
   "source": [
    "print(y_train)"
   ]
  },
  {
   "cell_type": "code",
   "execution_count": null,
   "metadata": {
    "colab": {
     "base_uri": "https://localhost:8080/",
     "height": 34
    },
    "colab_type": "code",
    "executionInfo": {
     "elapsed": 828,
     "status": "ok",
     "timestamp": 1587622309210,
     "user": {
      "displayName": "Hadelin de Ponteves",
      "photoUrl": "https://lh3.googleusercontent.com/a-/AOh14GhEuXdT7eQweUmRPW8_laJuPggSK6hfvpl5a6WBaA=s64",
      "userId": "15047218817161520419"
     },
     "user_tz": -240
    },
    "id": "I_tW7H56rgtW",
    "outputId": "2a93f141-2a99-4a69-eec5-c82a3bb8d36b"
   },
   "outputs": [],
   "source": [
    "print(y_test)\n",
    "#observamos que se obtienen 4 matrices (sets): \n",
    "#\"X-entrenamiento\", \"y_entrenamiento\", \"X-testing\" e \"y_testing\"\n",
    "#1. ¿por qué generamos estos sets?\n",
    "#2. ¿qué informacion guardan X_test, y_train, y_test?"
   ]
  },
  {
   "cell_type": "markdown",
   "metadata": {
    "colab_type": "text",
    "id": "TpGqbS4TqkIR"
   },
   "source": [
    "## Feature Scaling (\"Escalado de características). \n",
    "Se aplica al set de training cuando hay mucha diferencia entre los valores y permite tener nuestras características en la misma escala (rango). \n",
    "\n",
    "En nuestro caso, no se aplicaran a las columnas que han resultado del OneHotEncoder\n",
    "Existen dos metodos: \n",
    "\n",
    "- standardización: (x - xmedio) / std(x): en general, translada los valores entre -3 y +3. Funciona bien todo el tiempo (más recomendada).\n",
    "- normalización: (x - xmin) / (xmax - xmin): translada los valores entre 0 y 1. Recomendada solo cuando tenemos distribucion normal en la mayoria de los features.\n"
   ]
  },
  {
   "cell_type": "code",
   "execution_count": null,
   "metadata": {
    "colab": {},
    "colab_type": "code",
    "id": "AxjSUXFQqo-3"
   },
   "outputs": [],
   "source": [
    "from sklearn.preprocessing import StandardScaler #clase StandardScaler, \n",
    "#!SOLO se hace standardización en X train y X_test!\n",
    "\n",
    "sc = StandardScaler()\n",
    "X_train[:, 3:] = sc.fit_transform(X_train[:, 3:]) \n",
    "#¿por donde empezamos? ¿qué columnas reemplaza?\n",
    "X_test[:, 3:] = sc.transform(X_test[:, 3:]) #aplicamos al input de la prediccion, \n",
    "#porque deben estar en la misma escala. \n",
    "\n",
    "#!IMPORTANTE No aplicamos nunca el fit al test set, se supone que el set de training \n",
    "#contiene datos ´no vistos´ por el modelo!"
   ]
  },
  {
   "cell_type": "code",
   "execution_count": null,
   "metadata": {
    "colab": {
     "base_uri": "https://localhost:8080/",
     "height": 154
    },
    "colab_type": "code",
    "executionInfo": {
     "elapsed": 767,
     "status": "ok",
     "timestamp": 1587622313752,
     "user": {
      "displayName": "Hadelin de Ponteves",
      "photoUrl": "https://lh3.googleusercontent.com/a-/AOh14GhEuXdT7eQweUmRPW8_laJuPggSK6hfvpl5a6WBaA=s64",
      "userId": "15047218817161520419"
     },
     "user_tz": -240
    },
    "id": "DWPET8ZdlMnu",
    "outputId": "dea86927-5124-4e2a-e974-2804df9a913c"
   },
   "outputs": [],
   "source": [
    "print(X_train)"
   ]
  },
  {
   "cell_type": "code",
   "execution_count": null,
   "metadata": {
    "colab": {
     "base_uri": "https://localhost:8080/",
     "height": 51
    },
    "colab_type": "code",
    "executionInfo": {
     "elapsed": 506,
     "status": "ok",
     "timestamp": 1587622315942,
     "user": {
      "displayName": "Hadelin de Ponteves",
      "photoUrl": "https://lh3.googleusercontent.com/a-/AOh14GhEuXdT7eQweUmRPW8_laJuPggSK6hfvpl5a6WBaA=s64",
      "userId": "15047218817161520419"
     },
     "user_tz": -240
    },
    "id": "sTXykB_QlRjE",
    "outputId": "b68f0cfc-d07c-48cb-80d0-6800028c41f9"
   },
   "outputs": [],
   "source": [
    "print(X_test)\n",
    "#2. ¿qué informacion se guarda en X_train y X_test?"
   ]
  }
 ],
 "metadata": {
  "colab": {
   "authorship_tag": "ABX9TyNxDRfLvKVBN9HjXcmlURF3",
   "collapsed_sections": [],
   "name": "data_preprocessing_tools.ipynb",
   "provenance": [],
   "toc_visible": true
  },
  "kernelspec": {
   "display_name": "Python 3",
   "language": "python",
   "name": "python3"
  },
  "language_info": {
   "codemirror_mode": {
    "name": "ipython",
    "version": 3
   },
   "file_extension": ".py",
   "mimetype": "text/x-python",
   "name": "python",
   "nbconvert_exporter": "python",
   "pygments_lexer": "ipython3",
   "version": "3.7.6"
  }
 },
 "nbformat": 4,
 "nbformat_minor": 1
}
