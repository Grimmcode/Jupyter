{
 "cells": [
  {
   "cell_type": "markdown",
   "metadata": {},
   "source": [
    "<h1>Sección 1: Tipos de Datos</h1>\n",
    "    "
   ]
  },
  {
   "cell_type": "markdown",
   "metadata": {},
   "source": [
    "1.1 Escribir un programa que pregunte el nombre del usuario en la consola y después de que el usuario lo introduzca muestre por pantalla la cadena ¡Hola <code>nombre!</code>, donde <code>nombre</code> es el nombre que el usuario haya introducido.\n",
    "    "
   ]
  },
  {
   "cell_type": "code",
   "execution_count": 3,
   "metadata": {},
   "outputs": [
    {
     "name": "stdin",
     "output_type": "stream",
     "text": [
      "What`s your name  uwu\n"
     ]
    },
    {
     "name": "stdout",
     "output_type": "stream",
     "text": [
      "¡Hola uwu!\n"
     ]
    }
   ],
   "source": [
    "nombre = input ('What`s your name ')\n",
    "print ('¡Hola '+ nombre +'!' )"
   ]
  },
  {
   "cell_type": "markdown",
   "metadata": {},
   "source": [
    "1.2 Escribir un programa que pregunte el nombre del usuario en la consola y después de que el usuario lo introduzca muestre por pantalla <code>tiene 'X' letras </code>, donde es el nombre de usuario en mayúsculas y <n> es el número de letras que tienen el nombre."
   ]
  },
  {
   "cell_type": "code",
   "execution_count": 11,
   "metadata": {},
   "outputs": [
    {
     "name": "stdin",
     "output_type": "stream",
     "text": [
      "What`s your name  uwu\n"
     ]
    },
    {
     "name": "stdout",
     "output_type": "stream",
     "text": [
      "tiene  3 letras\n"
     ]
    }
   ],
   "source": [
    "nombre = input ('What`s your name ')\n",
    "print ('tiene ',len(nombre),'letras' )"
   ]
  },
  {
   "cell_type": "markdown",
   "metadata": {},
   "source": [
    "1.3 Escribir un programa que pregunte el nombre del usuario en la consola y un número entero e imprima por pantalla en líneas distintas el nombre del usuario tantas veces como el número introducido."
   ]
  },
  {
   "cell_type": "code",
   "execution_count": 19,
   "metadata": {},
   "outputs": [
    {
     "name": "stdin",
     "output_type": "stream",
     "text": [
      "What`s your name  Fea\n",
      "numero de veces 4\n"
     ]
    },
    {
     "name": "stdout",
     "output_type": "stream",
     "text": [
      "¡Hola  Fea !\n",
      "¡Hola  Fea !\n",
      "¡Hola  Fea !\n",
      "¡Hola  Fea !\n"
     ]
    }
   ],
   "source": [
    "nombre = input ('What`s your name ')\n",
    "numero=int(input('numero de veces'))\n",
    "for i in range (0,numero):           \n",
    "    print ('¡Hola ', nombre ,'!' )"
   ]
  },
  {
   "cell_type": "markdown",
   "metadata": {},
   "source": [
    "1.4 Escribir un programa que pregunte por una temperatura en grados celsius y devuelva la misma temperatura en grados Fahrenheit\n",
    "    "
   ]
  },
  {
   "cell_type": "code",
   "execution_count": 21,
   "metadata": {},
   "outputs": [
    {
     "name": "stdin",
     "output_type": "stream",
     "text": [
      "Temperatura en celsius 55\n"
     ]
    },
    {
     "name": "stdout",
     "output_type": "stream",
     "text": [
      "Temperatura en fahrenheit 131.0\n"
     ]
    }
   ],
   "source": [
    "tempc = int(input ('Temperatura en celsius'))\n",
    "tempf=(tempc*9 / 5) + 32\n",
    "print ('Temperatura en fahrenheit',tempf )"
   ]
  },
  {
   "cell_type": "markdown",
   "metadata": {},
   "source": [
    "1.5 Una cuenta de ahorros te ofrece el 4% de interés al año, que se añaden al balance final de tu cuenta de ahorros a final de año. Escribir un programa que comience leyendo la cantidad de dinero depositada en la cuenta de ahorros, introducida por el usuario. Después el programa debe calcular y mostrar por pantalla la cantidad de ahorros tras el primer, segundo y tercer años. Redondear cada cantidad a dos decimales."
   ]
  },
  {
   "cell_type": "code",
   "execution_count": 28,
   "metadata": {},
   "outputs": [
    {
     "name": "stdin",
     "output_type": "stream",
     "text": [
      "deposito de dinero inicial  100\n",
      "año de inicio de deposito 1\n"
     ]
    },
    {
     "name": "stdout",
     "output_type": "stream",
     "text": [
      "tu deposito es de  104.0 $\n",
      "tu deposito es de  108.16 $\n",
      "tu deposito es de  112.49 $\n"
     ]
    }
   ],
   "source": [
    "deposito=int(input('deposito de dinero inicial '))\n",
    "año=int(input('año de inicio de deposito'))\n",
    "aux=año+3\n",
    "for i in range (año,aux):   \n",
    "    deposito=deposito+deposito*0.04\n",
    "    print ('tu deposito es de ',round(deposito, 2) ,'$' )"
   ]
  },
  {
   "cell_type": "markdown",
   "metadata": {},
   "source": [
    "<h1>Sección 2: Condicionales</h1>"
   ]
  },
  {
   "cell_type": "markdown",
   "metadata": {},
   "source": [
    "2.1 Escribir un programa que almacene la cadena de caracteres <code>contraseña</code> en una variable, pregunte al usuario por la contraseña e imprima por pantalla si la contraseña introducida por el usuario coincide con la guardada en la variable sin tener en cuenta mayúsculas y minúsculas."
   ]
  },
  {
   "cell_type": "code",
   "execution_count": 37,
   "metadata": {},
   "outputs": [
    {
     "name": "stdin",
     "output_type": "stream",
     "text": [
      "Introduzca su contraseña:  uwe\n",
      "verifica su contraseña:  Uwe\n"
     ]
    },
    {
     "name": "stdout",
     "output_type": "stream",
     "text": [
      "tu contraseña es correcta!\n"
     ]
    }
   ],
   "source": [
    "contraseña=input('Introduzca su contraseña: ')\n",
    "contraseñausuario=input('verifica su contraseña: ')\n",
    "contraseña=contraseña.upper()\n",
    "contraseñausuario=contraseñausuario.upper()\n",
    "if (contraseña==contraseñausuario):\n",
    "    print('tu contraseña es correcta!')\n",
    "else:    \n",
    "    print('Contraseña incorrecta')"
   ]
  },
  {
   "cell_type": "markdown",
   "metadata": {},
   "source": [
    "2.2 Escribir un programa que pida al usuario un número entero y muestre por pantalla si es par o impar."
   ]
  },
  {
   "cell_type": "code",
   "execution_count": 41,
   "metadata": {},
   "outputs": [
    {
     "name": "stdin",
     "output_type": "stream",
     "text": [
      "Introduce Numero 6\n"
     ]
    },
    {
     "name": "stdout",
     "output_type": "stream",
     "text": [
      "entero\n"
     ]
    }
   ],
   "source": [
    "numero = float(input ('Introduce Numero'))\n",
    "if numero % 2==0:\n",
    "    print ('entero')\n",
    "else:\n",
    "    print ('impar')"
   ]
  },
  {
   "cell_type": "markdown",
   "metadata": {},
   "source": [
    "2.3 Los alumnos de un curso se han dividido en dos grupos A y B de acuerdo al sexo y el nombre. El grupo A esta formado por las mujeres con un nombre anterior a la M y los hombres con un nombre posterior a la N y el grupo B por el resto. Escribir un programa que pregunte al usuario su nombre y sexo, y muestre por pantalla el grupo que le corresponde."
   ]
  },
  {
   "cell_type": "code",
   "execution_count": 1,
   "metadata": {},
   "outputs": [
    {
     "name": "stdin",
     "output_type": "stream",
     "text": [
      "nombre uwu\n",
      "sexo (Masculino o Femenino) Masculino\n"
     ]
    },
    {
     "name": "stdout",
     "output_type": "stream",
     "text": [
      "grupo B\n"
     ]
    }
   ],
   "source": [
    "nombre=input(\"nombre\")\n",
    "sexo=input('sexo (Masculino o Femenino)')\n",
    "if sexo=='femenino' and nombre<'M' or sexo=='masculino' and nombre>'N':\n",
    "    print(\"grupo A\")\n",
    "else:\n",
    "    print(\"grupo B\")\n",
    "    "
   ]
  },
  {
   "cell_type": "markdown",
   "metadata": {},
   "source": [
    "2.4 Escribir un programa para una empresa que tiene salas de juegos para todas las edades y quiere calcular de forma automática el precio que debe cobrar a sus clientes por entrar. El programa debe preguntar al usuario la edad del cliente y mostrar el precio de la entrada. Si el cliente es menor de 4 años puede entrar gratis, si tiene entre 4 y 18 años debe pagar 5€ y si es mayor de 18 años, 10€."
   ]
  },
  {
   "cell_type": "code",
   "execution_count": 27,
   "metadata": {},
   "outputs": [
    {
     "name": "stdin",
     "output_type": "stream",
     "text": [
      "edad 14\n"
     ]
    },
    {
     "name": "stdout",
     "output_type": "stream",
     "text": [
      "5 euros\n"
     ]
    }
   ],
   "source": [
    "edad = float(input('edad'))\n",
    "if (edad<=0):\n",
    "    print ('ERROR 404')\n",
    "elif (edad>=4 and edad<18):\n",
    "    print('5 euros')\n",
    "elif (edad<4):\n",
    "    print('Es gratis')\n",
    "else:\n",
    "    print('10 euros')"
   ]
  },
  {
   "cell_type": "markdown",
   "metadata": {},
   "source": [
    "2.5 La pizzería Bella Napoli ofrece pizzas vegetarianas y no vegetarianas a sus clientes. Los ingredientes para cada tipo de pizza aparecen a continuación.\n",
    "<ul>\n",
    "    <li>Ingredientes vegetarianos: Pimiento y tofu.</li>\n",
    "<li>Ingredientes no vegetarianos: Peperoni, Jamón y Salmón.</li>\n",
    "</ul>\n",
    "Escribir un programa que pregunte al usuario si quiere una pizza vegetariana o no, y en función de su respuesta le muestre un menú con los ingredientes disponibles para que elija. Solo se puede eligir un ingrediente además de la mozzarella y el tomate que están en todas la pizzas. Al final se debe mostrar por pantalla si la pizza elegida es vegetariana o no y todos los ingredientes que lleva."
   ]
  },
  {
   "cell_type": "code",
   "execution_count": 2,
   "metadata": {},
   "outputs": [
    {
     "name": "stdout",
     "output_type": "stream",
     "text": [
      "Bienvenido a la pizzeria Bella Napoli.\n",
      "Tipos de pizza\n",
      "1- Vegetariana\n",
      "2- No vegetariana\n"
     ]
    },
    {
     "name": "stdin",
     "output_type": "stream",
     "text": [
      " 5\n"
     ]
    },
    {
     "name": "stdout",
     "output_type": "stream",
     "text": [
      "eleccion incorrecta\n"
     ]
    }
   ],
   "source": [
    "print('Bienvenido a la pizzeria Bella Napoli.')\n",
    "print('Tipos de pizza')\n",
    "print('1- Vegetariana')\n",
    "print('2- No vegetariana')\n",
    "Lista=[]\n",
    "tipo=int(input(''))\n",
    "if tipo==1:\n",
    "    print('Ingredientes de pizzas vegetarianas')\n",
    "    print('1-Pimiento')\n",
    "    print('2-Tofu')\n",
    "    numeroingr=int(input('Introduce el número de ingredientes correspondiente al tipo de pizza que quieres:'))\n",
    "    for i in range(numeroingr):\n",
    "        ingrediente=int(input('Numero del ingrediente'))\n",
    "        if ingrediente==1:\n",
    "            add=('Pimiento')\n",
    "            Lista.append(add)\n",
    "        elif ingrediente==2:\n",
    "            add=('Tofu')\n",
    "            Lista.append(add)\n",
    "    print('Su pizza vegetariana tiene los siguientes ingredientes: mozzarella, tomate ',Lista)\n",
    "elif tipo==2:\n",
    "    print('Ingredientes de pizzas no vegetarianas')\n",
    "    print('1-Peperoni')\n",
    "    print('2-Jamón')\n",
    "    print('3-Salmón')\n",
    "    numeroingr=int(input('Introduce el número de ingredientes correspondiente al tipo de pizza que quieres:'))\n",
    "    for i in range(numeroingr):\n",
    "        ingrediente=int(input('Numero del ingrediente'))\n",
    "        if ingrediente==1:\n",
    "            add=('Peperoni')\n",
    "            Lista.append(add)\n",
    "        elif ingrediente==2:\n",
    "            add=('Jamón')\n",
    "            Lista.append(add)\n",
    "        elif ingrediente==3:\n",
    "            add=('Salmón')\n",
    "            Lista.append(add)\n",
    "    print('Su pizza no vegetariana tiene los siguientes ingredientes: mozzarella, tomate',Lista)    \n",
    "\n",
    "else:\n",
    "    print('eleccion incorrecta')\n"
   ]
  },
  {
   "cell_type": "markdown",
   "metadata": {},
   "source": [
    "<h1>Sección 3: Bucles</h1>"
   ]
  },
  {
   "cell_type": "markdown",
   "metadata": {},
   "source": [
    "3.1 Escribir un programa que pida al usuario un número entero positivo y muestre por pantalla todos los números impares desde 1 hasta ese número separados por comas."
   ]
  },
  {
   "cell_type": "code",
   "execution_count": null,
   "metadata": {},
   "outputs": [],
   "source": [
    "x = int(input('numero entero'))\n",
    "for i in range(1,x+1,2):\n",
    "    print(i,end=',')"
   ]
  },
  {
   "cell_type": "markdown",
   "metadata": {},
   "source": [
    "3.2 Escribir un programa que pida al usuario un número entero y muestre por pantalla un triángulo rectángulo como el de más abajo.\n",
    "<pre>\n",
    "1\n",
    "3 1\n",
    "5 3 1\n",
    "7 5 3 1\n",
    "9 7 5 3 1\n",
    "</pre>"
   ]
  },
  {
   "cell_type": "code",
   "execution_count": null,
   "metadata": {},
   "outputs": [],
   "source": [
    "x = int(input('numero entero'))\n",
    "for i in range(1,x+9,2):\n",
    "    for j in range(i,0,-2):\n",
    "        print(j,end=' ')\n",
    "    print('')"
   ]
  },
  {
   "cell_type": "markdown",
   "metadata": {},
   "source": [
    "3.3 Escribir un programa que almacene la cadena de caracteres contraseña en una variable, pregunte al usuario por la contraseña hasta que introduzca la contraseña correcta."
   ]
  },
  {
   "cell_type": "code",
   "execution_count": null,
   "metadata": {},
   "outputs": [],
   "source": [
    "real=\"hola\"\n",
    "contrasena=input(\"contrasena\")\n",
    "while real != contrasena:\n",
    "    contrasena=input(\"contrasena\")\n",
    "    if (contrasena==real):\n",
    "        print ('Contraseña correcta')"
   ]
  },
  {
   "cell_type": "markdown",
   "metadata": {},
   "source": [
    "3.4 Escribir un programa que pida al usuario un número entero y muestre por pantalla si es un número primo o no."
   ]
  },
  {
   "cell_type": "code",
   "execution_count": null,
   "metadata": {},
   "outputs": [],
   "source": [
    "def esPrimo(numero):\n",
    "    for i in range (2,numero):\n",
    "        if numero % i == 0 :\n",
    "            return False\n",
    "    return True    \n",
    "valor=input('Introduce un numero')\n",
    "if esPrimo(int(valor)):\n",
    "    print('El valor es primo')\n",
    "else:\n",
    "    print('No es primo')"
   ]
  },
  {
   "cell_type": "markdown",
   "metadata": {},
   "source": [
    "3.5 Escribir un programa que muestre el eco de todo lo que el usuario introduzca hasta que el usuario escriba “salir” que terminará."
   ]
  },
  {
   "cell_type": "code",
   "execution_count": null,
   "metadata": {},
   "outputs": [],
   "source": [
    "palabra='salir'\n",
    "usuario=input(\"introduce algo\")\n",
    "while palabra!= usuario:\n",
    "    usuario=input(\"introduce algo\")\n",
    "    if (palabra== usuario):\n",
    "        print ('correcto')"
   ]
  },
  {
   "cell_type": "markdown",
   "metadata": {},
   "source": [
    "<h1>Sección 4: Listas y tuplas</h1>"
   ]
  },
  {
   "cell_type": "markdown",
   "metadata": {
    "tags": []
   },
   "source": [
    "4.1 Escribir un programa que almacene las asignaturas de un curso (por ejemplo Matemáticas, Física, Química, Historia y Lengua) en una lista, pregunte al usuario la nota que ha sacado en cada asignatura, y después las muestre por pantalla con el mensaje <i>\"En <code>asignatura</code> has sacado <code>nota</code>\"</i> donde <code>asignatura</code> es cada una de las asignaturas de la lista y <code>nota</code> cada una de las correspondientes notas introducidas por el usuario."
   ]
  },
  {
   "cell_type": "code",
   "execution_count": 1,
   "metadata": {},
   "outputs": [
    {
     "name": "stdout",
     "output_type": "stream",
     "text": [
      "que nota has sacado en matematicas\n"
     ]
    },
    {
     "name": "stdin",
     "output_type": "stream",
     "text": [
      " 4\n"
     ]
    },
    {
     "name": "stdout",
     "output_type": "stream",
     "text": [
      "que nota has sacado en fisica\n"
     ]
    },
    {
     "name": "stdin",
     "output_type": "stream",
     "text": [
      " 4\n"
     ]
    },
    {
     "name": "stdout",
     "output_type": "stream",
     "text": [
      "que nota has sacado en quimica\n"
     ]
    },
    {
     "name": "stdin",
     "output_type": "stream",
     "text": [
      " 4\n"
     ]
    },
    {
     "name": "stdout",
     "output_type": "stream",
     "text": [
      "que nota has sacado en historia\n"
     ]
    },
    {
     "name": "stdin",
     "output_type": "stream",
     "text": [
      " 4\n"
     ]
    },
    {
     "name": "stdout",
     "output_type": "stream",
     "text": [
      "En matematicas has sacado 4\n",
      "En fisica has sacado 4\n",
      "En quimica has sacado 4\n",
      "En historia has sacado 4\n"
     ]
    }
   ],
   "source": [
    "asignaturas=['matematicas','fisica','quimica','historia']\n",
    "nota=[]\n",
    "for i in asignaturas:\n",
    "    print('que nota has sacado en',i)\n",
    "    n=int(input(''))\n",
    "    nota.append(n)\n",
    "for j in range(0,len(nota)):\n",
    "    print ('En',asignaturas[j],'has sacado',nota[j])"
   ]
  },
  {
   "cell_type": "markdown",
   "metadata": {},
   "source": [
    "4.2 Extienda el ejercicio anterior para que una vez que se muestre por pantalla el mensaje <i>\"En <code>asignatura</code> has sacado <code>nota</code>\"</i>, al final el programa debe mostrar por pantalla las asignaturas que el usuario tiene que repetir (nota < 5.0)."
   ]
  },
  {
   "cell_type": "code",
   "execution_count": 9,
   "metadata": {},
   "outputs": [
    {
     "name": "stdout",
     "output_type": "stream",
     "text": [
      "que nota has sacado en matematicas\n"
     ]
    },
    {
     "name": "stdin",
     "output_type": "stream",
     "text": [
      " 5\n"
     ]
    },
    {
     "name": "stdout",
     "output_type": "stream",
     "text": [
      "que nota has sacado en fisica\n"
     ]
    },
    {
     "name": "stdin",
     "output_type": "stream",
     "text": [
      " 5\n"
     ]
    },
    {
     "name": "stdout",
     "output_type": "stream",
     "text": [
      "que nota has sacado en quimica\n"
     ]
    },
    {
     "name": "stdin",
     "output_type": "stream",
     "text": [
      " 2\n"
     ]
    },
    {
     "name": "stdout",
     "output_type": "stream",
     "text": [
      "que nota has sacado en historia\n"
     ]
    },
    {
     "name": "stdin",
     "output_type": "stream",
     "text": [
      " 1\n"
     ]
    },
    {
     "name": "stdout",
     "output_type": "stream",
     "text": [
      "En matematicas has sacado 5\n",
      "En fisica has sacado 5\n",
      "En quimica has sacado 2\n",
      "la asignatura quimica se tiene que repetir\n",
      "En historia has sacado 1\n",
      "la asignatura historia se tiene que repetir\n"
     ]
    }
   ],
   "source": [
    "asignaturas=['matematicas','fisica','quimica','historia']\n",
    "nota=[]\n",
    "for i in asignaturas:\n",
    "    print('que nota has sacado en',i)\n",
    "    n=int(input(''))\n",
    "    nota.append(n)\n",
    "for j in range(0,len(nota)):\n",
    "    print ('En',asignaturas[j],'has sacado',nota[j])\n",
    "    if (nota[j]<5):\n",
    "        print('la asignatura',asignaturas [j],'se tiene que repetir')"
   ]
  },
  {
   "cell_type": "markdown",
   "metadata": {},
   "source": [
    "4.3 Escribir un programa que pregunte al usuario los números ganadores de la lotería primitiva, los almacene en una lista y los muestre por pantalla ordenados de menor a mayor."
   ]
  },
  {
   "cell_type": "code",
   "execution_count": 5,
   "metadata": {},
   "outputs": [
    {
     "name": "stdin",
     "output_type": "stream",
     "text": [
      "numero de la loteria ganador 4\n",
      "numero de la loteria ganador 4\n",
      "numero de la loteria ganador 4\n",
      "numero de la loteria ganador 4\n",
      "numero de la loteria ganador 4\n"
     ]
    },
    {
     "name": "stdout",
     "output_type": "stream",
     "text": [
      "['4', '4', '4', '4', '4']\n"
     ]
    }
   ],
   "source": [
    "x=[]\n",
    "for i in range(5):\n",
    "    y=input('numero de la loteria ganador')\n",
    "    x.append(y)\n",
    "    x.sort()\n",
    "print(x)"
   ]
  },
  {
   "cell_type": "markdown",
   "metadata": {},
   "source": [
    "4.4 Escribir un programa que pida al usuario una palabra y muestre por pantalla el número de veces que contiene cada vocal."
   ]
  },
  {
   "cell_type": "code",
   "execution_count": 3,
   "metadata": {},
   "outputs": [
    {
     "name": "stdin",
     "output_type": "stream",
     "text": [
      "Introduce una palabra:  pepe\n"
     ]
    },
    {
     "name": "stdout",
     "output_type": "stream",
     "text": [
      "La vocal a aparece 0 veces\n",
      "La vocal e aparece 2 veces\n",
      "La vocal i aparece 0 veces\n",
      "La vocal o aparece 0 veces\n",
      "La vocal u aparece 0 veces\n"
     ]
    }
   ],
   "source": [
    "word = input(\"Introduce una palabra: \")\n",
    "vocals = ['a', 'e', 'i', 'o', 'u']\n",
    "for vocal in vocals: \n",
    "    times = 0\n",
    "    for letter in word: \n",
    "        if letter == vocal:\n",
    "            times += 1\n",
    "    print(\"La vocal \" + vocal + \" aparece \" + str(times) + \" veces\")"
   ]
  },
  {
   "cell_type": "markdown",
   "metadata": {},
   "source": [
    "4.5 Escribir un programa que pregunte por una muestra de números, separados por comas, los guarde en una lista y muestre por pantalla su media y desviación típica."
   ]
  },
  {
   "cell_type": "code",
   "execution_count": 2,
   "metadata": {},
   "outputs": [
    {
     "name": "stdin",
     "output_type": "stream",
     "text": [
      "Introduce una muestra de números separados por comas:  1,1,1,1,2,5,7\n"
     ]
    },
    {
     "name": "stdout",
     "output_type": "stream",
     "text": [
      "La media es 2.5714285714285716 , y la desviación típica es 3.285714285714285\n"
     ]
    }
   ],
   "source": [
    "sample = input(\"Introduce una muestra de números separados por comas: \")\n",
    "sample = sample.split(',')\n",
    "n = len(sample)\n",
    "for i in range(n):\n",
    "    sample[i] = int(sample[i])\n",
    "sample = tuple(sample)\n",
    "sum = 0\n",
    "sumsq = 0\n",
    "for i in sample:\n",
    "    sum += i\n",
    "    sumsq += i**2\n",
    "    \n",
    "    \n",
    "mean = sum/n\n",
    "stdev = (sumsq/n-mean*2)*(1/2)\n",
    "print('La media es', mean, ', y la desviación típica es', stdev)"
   ]
  },
  {
   "cell_type": "markdown",
   "metadata": {},
   "source": [
    "<h1>Sección 5: Diccionarios</h1>"
   ]
  },
  {
   "cell_type": "markdown",
   "metadata": {},
   "source": [
    "5.1 Escribir un programa que pregunte al usuario su nombre, edad, dirección y teléfono y lo guarde en un diccionario. Después debe mostrar por pantalla el mensaje <i>\"<code>nombre</code> tiene <code>edad</code> años, vive en <code>direccion</code> y su número de teléfono es <code>telefono</code>\"</i>."
   ]
  },
  {
   "cell_type": "code",
   "execution_count": 10,
   "metadata": {},
   "outputs": [
    {
     "name": "stdin",
     "output_type": "stream",
     "text": [
      "nombre uwu\n",
      "edad 5\n",
      "direccion a\n",
      "telefono 2222222222\n"
     ]
    },
    {
     "name": "stdout",
     "output_type": "stream",
     "text": [
      "uwu tiene 5 años y vive en a su numero de telefono es 2222222222\n"
     ]
    }
   ],
   "source": [
    "dict={'nombre':'nombre','edad':'edad','direccion':'direccion','telefono':'telefono'}\n",
    "x=input('nombre')\n",
    "dict['nombre']=x\n",
    "y=input('edad')\n",
    "dict['edad']=y\n",
    "z=input('direccion')\n",
    "dict['direccion']=z\n",
    "t=input('telefono')\n",
    "dict['telefono']=t\n",
    "print(dict['nombre'],'tiene',dict['edad'],'años','y vive en',dict['direccion'],'su numero de telefono es',dict['telefono'])"
   ]
  },
  {
   "cell_type": "markdown",
   "metadata": {},
   "source": [
    "5.2 Escribir un programa que cree un diccionario simulando una cesta de la compra. El programa debe preguntar el artículo y su precio y añadir el par al diccionario, hasta que el usuario decida terminar. Después se debe mostrar por pantalla la lista de la compra y el coste total, con el siguiente formato:\n",
    "<pre>\n",
    "Lista de la compra\n",
    "Ordenador \t450.5\n",
    "Tablet \t   230.0\n",
    "Teléfono \t 121.2\n",
    "Coste total:  801.7\n",
    "</pre>"
   ]
  },
  {
   "cell_type": "code",
   "execution_count": 12,
   "metadata": {},
   "outputs": [
    {
     "name": "stdin",
     "output_type": "stream",
     "text": [
      "articulo lol\n",
      "precio 5\n",
      "fin? fin\n"
     ]
    },
    {
     "name": "stdout",
     "output_type": "stream",
     "text": [
      "Lista de la compra\n",
      "lol  \t  5\n",
      "coste total: 5\n"
     ]
    }
   ],
   "source": [
    "obj='inicio'\n",
    "dict={}\n",
    "while obj != 'fin':\n",
    "    obj=input('articulo')\n",
    "    cost=int(input('precio'))\n",
    "    dict[obj]=cost\n",
    "    obj=input('fin?')\n",
    "print('Lista de la compra')\n",
    "coste=0\n",
    "for obj,cost in dict.items():\n",
    "    print(obj,' \\t ',cost)\n",
    "    coste=coste+cost\n",
    "print('coste total:',coste)"
   ]
  },
  {
   "cell_type": "markdown",
   "metadata": {},
   "source": [
    "5.3 Escribir un programa que cree un diccionario de traducción español-inglés. El usuario introducirá las palabras en español e inglés separadas por dos puntos, y cada par <i><code>palabra:traducción</code></i> separados por comas. El programa debe crear un diccionario con las palabras y sus traducciones. Después pedirá una frase en español y utilizará el diccionario para traducirla palabra a palabra. Si una palabra no está en el diccionario debe dejarla sin traducir."
   ]
  },
  {
   "cell_type": "code",
   "execution_count": 1,
   "metadata": {},
   "outputs": [
    {
     "name": "stdin",
     "output_type": "stream",
     "text": [
      "Introduce la lista de palabras y traducciones en formato palabra:traducción separadas por puntos:  pene:penis\n",
      "Introduce una frase en español:  hola holita\n"
     ]
    },
    {
     "name": "stdout",
     "output_type": "stream",
     "text": [
      "hola holita "
     ]
    }
   ],
   "source": [
    "diccionario = {}\n",
    "palabras = input(\"Introduce la lista de palabras y traducciones en formato palabra:traducción separadas por puntos: \")\n",
    "for i in palabras.split(','):\n",
    "    clave, valor = i.split(':')\n",
    "    diccionario[clave] = valor\n",
    "frase = input('Introduce una frase en español: ')\n",
    "for i in frase.split():\n",
    "    if i in diccionario:\n",
    "        print(diccionario[i], end=' ')\n",
    "    else:\n",
    "        print(i, end=' ')"
   ]
  },
  {
   "cell_type": "markdown",
   "metadata": {},
   "source": [
    "5.4 Escribir un programa que permita gestionar la base de datos de clientes de una empresa. Los clientes se guardarán en un diccionario en el que la clave de cada cliente será su NIF, y el valor será otro diccionario con los datos del cliente (nombre, dirección, teléfono, correo, preferente), donde preferente tendrá el valor <code>True</code> si se trata de un cliente preferente. El programa debe preguntar al usuario por una opción del siguiente menú: (1) Añadir cliente, (2) Eliminar cliente, (3) Mostrar cliente, (4) Listar todos los clientes, (5) Listar clientes preferentes, (6) Terminar. En función de la opción elegida el programa tendrá que hacer lo siguiente:\n",
    "\n",
    "<ol>\n",
    "<li>Preguntar los datos del cliente, crear un diccionario con los datos y añadirlo a la base de datos.</li>\n",
    "<li>Preguntar por el NIF del cliente y eliminar sus datos de la base de datos.</li>\n",
    "<li>Preguntar por el NIF del cliente y mostrar sus datos.</li>\n",
    "<li>Mostrar lista de todos los clientes de la base datos con su NIF y nombre.</li>\n",
    "<li>Mostrar la lista de clientes preferentes de la base de datos con su NIF y nombre.</li>\n",
    "<li>Terminar el programa.</li>\n",
    "</ol>"
   ]
  },
  {
   "cell_type": "code",
   "execution_count": null,
   "metadata": {},
   "outputs": [],
   "source": [
    "clientes = {}\n",
    "opcion = ''\n",
    "while opcion != '6':\n",
    "    if opcion == '1':\n",
    "        nif = input('Introduce NIF del cliente: ')\n",
    "        nombre = input('Introduce el nombre del cliente: ')\n",
    "        direccion = input('Introduce la dirección del cliente: ')\n",
    "        telefono = input('Introduce el teléfono del cliente: ')\n",
    "        email = input('Introduce el correo electrónico del cliente: ')\n",
    "        vip = input('¿Es un cliente preferente (S/N)? ')\n",
    "        cliente = {'nombre':nombre, 'dirección':direccion, 'teléfono':telefono, 'email':email, 'preferente':vip=='S'}\n",
    "        clientes[nif] = cliente\n",
    "    if opcion == '2':\n",
    "        nif = input('Introduce NIF del cliente: ')\n",
    "        if nif in clientes:\n",
    "            del clientes[nif]\n",
    "        else:\n",
    "            print('No existe el cliente con el nif', nif)\n",
    "    if opcion == '3':\n",
    "        nif = input('Introduce NIF del cliente: ')\n",
    "        if nif in clientes:\n",
    "            print('NIF:', nif)\n",
    "            for clave, valor in clientes[nif].items():\n",
    "                print(clave.title() + ':', valor)\n",
    "        else:\n",
    "            print('No existe el cliente con el nif', nif)\n",
    "    if opcion == '4':\n",
    "        print('Lista de clientes')\n",
    "        for clave, valor in clientes.items():\n",
    "            print(clave, valor['nombre'])\n",
    "    if opcion == '5':\n",
    "        print('Lista de clientes preferentes')\n",
    "        for clave, valor in clientes.items():\n",
    "            if valor['preferente']:\n",
    "                print(clave, valor['nombre'])\n",
    "    opcion = input('Menú de opciones\\n(1) Añadir cliente\\n(2) Eliminar cliente\\n(3) Mostrar cliente\\n(4) Listar clientes\\n(5) Listar clientes preferentes\\n(6) Terminar\\nElige una opción:')"
   ]
  },
  {
   "cell_type": "markdown",
   "metadata": {},
   "source": [
    "<h1>Sección 6: Funciones</h1>"
   ]
  },
  {
   "cell_type": "markdown",
   "metadata": {},
   "source": [
    "6.1 Escribir una función que reciba un número entero positivo y devuelva su factorial."
   ]
  },
  {
   "cell_type": "code",
   "execution_count": null,
   "metadata": {},
   "outputs": [],
   "source": []
  },
  {
   "cell_type": "markdown",
   "metadata": {},
   "source": [
    "6.2 Escribir una función que calcule el área de un círculo y otra que calcule el volumen de un cilindro usando la primera función."
   ]
  },
  {
   "cell_type": "code",
   "execution_count": null,
   "metadata": {},
   "outputs": [],
   "source": []
  },
  {
   "cell_type": "markdown",
   "metadata": {},
   "source": [
    "6.3 Escribir una función que calcule el máximo común divisor de dos números y otra que calcule el mínimo común múltiplo."
   ]
  },
  {
   "cell_type": "code",
   "execution_count": null,
   "metadata": {},
   "outputs": [],
   "source": []
  },
  {
   "cell_type": "markdown",
   "metadata": {},
   "source": [
    "6.4 Escribir una función que se llame con un valor de temperatura en grados celsius y devuelva la misma temperatura en grados Fahrenheit"
   ]
  },
  {
   "cell_type": "code",
   "execution_count": null,
   "metadata": {},
   "outputs": [],
   "source": []
  },
  {
   "cell_type": "markdown",
   "metadata": {},
   "source": [
    "<h1>Sección 7: Programación funcional</h1>"
   ]
  },
  {
   "cell_type": "markdown",
   "metadata": {},
   "source": [
    "7.1 Escribir una función que simule una calculadora científica que permita calcular el seno, coseno, tangente, exponencial y logaritmo neperiano. La función preguntará al usuario el valor y la función a aplicar, y mostrará por pantalla una tabla con los enteros de 1 al valor introducido y el resultado de aplicar la función a esos enteros."
   ]
  },
  {
   "cell_type": "code",
   "execution_count": null,
   "metadata": {},
   "outputs": [],
   "source": []
  },
  {
   "cell_type": "markdown",
   "metadata": {},
   "source": [
    "7.2 Escribir una función reciba un diccionario con la las asignaturas y las notas de un alumno y devuelva otro diccionario con las asignaturas en mayúsculas y las calificaciones correspondientes a las notas aprobadas."
   ]
  },
  {
   "cell_type": "code",
   "execution_count": null,
   "metadata": {},
   "outputs": [],
   "source": []
  },
  {
   "cell_type": "markdown",
   "metadata": {},
   "source": [
    "<h1>Sección 8: Ficheros</h1>"
   ]
  },
  {
   "cell_type": "markdown",
   "metadata": {},
   "source": [
    "8.1 Escribir una función que pida un número entero entre 1 y 10 y guarde en un fichero con el nombre tabla-n.txt la tabla de multiplicar de ese número, done n es el número introducido."
   ]
  },
  {
   "cell_type": "code",
   "execution_count": null,
   "metadata": {},
   "outputs": [],
   "source": []
  },
  {
   "cell_type": "markdown",
   "metadata": {},
   "source": [
    "8.2 Escribir una función que pida dos números n y m entre 1 y 10, lea el fichero tabla-n.txt con la tabla de multiplicar de ese número, y muestre por pantalla la línea m del fichero. Si el fichero no existe debe mostrar un mensaje por pantalla informando de ello."
   ]
  },
  {
   "cell_type": "code",
   "execution_count": null,
   "metadata": {},
   "outputs": [],
   "source": []
  },
  {
   "cell_type": "markdown",
   "metadata": {},
   "source": [
    "8.3 Escribir un programa que acceda a un fichero de internet mediante su url y muestre por pantalla el número de palabras que contiene."
   ]
  },
  {
   "cell_type": "code",
   "execution_count": null,
   "metadata": {},
   "outputs": [],
   "source": []
  },
  {
   "cell_type": "markdown",
   "metadata": {},
   "source": [
    "8.4 Escribir un programa que abra el fichero con información sobre el PIB per cápita de los países de la Unión Europea (url:https://ec.europa.eu/eurostat/estat-navtree-portlet-prod/BulkDownloadListing?file=data/sdg_08_10.tsv.gz&unzip=true), pregunte por las iniciales de un país y muestre el PIB per cápita de ese país de todos los años disponibles."
   ]
  },
  {
   "cell_type": "code",
   "execution_count": null,
   "metadata": {},
   "outputs": [],
   "source": []
  },
  {
   "cell_type": "markdown",
   "metadata": {},
   "source": [
    "8.5 Escribir un programa para gestionar un listín telefónico con los nombres y los teléfonos de los clientes de una empresa. El programa incorporar funciones crear el fichero con el listín si no existe, para consultar el teléfono de un cliente, añadir el teléfono de un nuevo cliente y eliminar el teléfono de un cliente. El listín debe estar guardado en el fichero de texto listin.txt donde el nombre del cliente y su teléfono deben aparecer separados por comas y cada cliente en una línea distinta."
   ]
  },
  {
   "cell_type": "code",
   "execution_count": null,
   "metadata": {},
   "outputs": [],
   "source": []
  }
 ],
 "metadata": {
  "kernelspec": {
   "display_name": "Python 3",
   "language": "python",
   "name": "python3"
  },
  "language_info": {
   "codemirror_mode": {
    "name": "ipython",
    "version": 3
   },
   "file_extension": ".py",
   "mimetype": "text/x-python",
   "name": "python",
   "nbconvert_exporter": "python",
   "pygments_lexer": "ipython3",
   "version": "3.9.4"
  }
 },
 "nbformat": 4,
 "nbformat_minor": 4
}
