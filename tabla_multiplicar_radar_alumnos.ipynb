{
 "cells": [
  {
   "cell_type": "markdown",
   "metadata": {},
   "source": [
    "<h2> Examen de python, parte práctica en notebook: Tiempo 60 minutos</h2>"
   ]
  },
  {
   "cell_type": "markdown",
   "metadata": {},
   "source": [
    "<h2> Ejercicio 1</h2>"
   ]
  },
  {
   "cell_type": "markdown",
   "metadata": {},
   "source": [
    "1.1 Escribir una función guarda_tabla_n, que acepta como entrada un número entero 'n' entre 1 y 10 y guarde en un fichero con el nombre multiplicar-n.txt la tabla de multiplicar de ese número, donde n es el número introducido. Si n no es un número entero o si no está en el rango correcto, debe mostrar un mensaje por pantalla informando del error."
   ]
  },
  {
   "cell_type": "code",
   "execution_count": 1,
   "metadata": {},
   "outputs": [],
   "source": [
    "#Escriba aquí su código"
   ]
  },
  {
   "cell_type": "markdown",
   "metadata": {},
   "source": [
    "1.2 Escribir una función obten_multiplicacion que pida dos números n y m entre 1 y 10, lea el fichero multiplicar-n.txt con la tabla de multiplicar de ese número, y muestre por pantalla la línea m del fichero. Si 'n' y 'm' no están en los rangos correctos debe mostrar un mensaje por pantalla informando de ello. Si el fichero no existe debe crearlo llamando a la función guarda_tabla_n y proseguir con la ejecución normal de la función.\n"
   ]
  },
  {
   "cell_type": "code",
   "execution_count": 77,
   "metadata": {},
   "outputs": [],
   "source": [
    "#Escriba aquí su código\n",
    "  "
   ]
  },
  {
   "cell_type": "markdown",
   "metadata": {},
   "source": [
    "<h2> Ejercicio 2</h2>"
   ]
  },
  {
   "cell_type": "markdown",
   "metadata": {},
   "source": [
    "<p>\n",
    "    Se desea modelar el funcionamiento (de forma simplificada) de un <strong>radar de tramo</strong>. La principal característica que presentan estos tipos de radares frente a los tradicionales consiste en que para comprobar si un vehículo ha superado el límite de velocidad calculan si la velocidad media de un vehículo, a lo largo del tramo de calzada que están vigilando, ha superado el límite de  velocidad establecido. Para ello, toman fotos y miden el tiempo en los instantes en los que los vehículos entran y salen del tramo (un túnel, por ejemplo).</p>"
   ]
  },
  {
   "cell_type": "markdown",
   "metadata": {},
   "source": [
    "<p>\n",
    "Tenemos la clase Vehículo, que nos permite crear objetos de tipo vehículo.</p>"
   ]
  },
  {
   "cell_type": "code",
   "execution_count": 64,
   "metadata": {},
   "outputs": [],
   "source": [
    "#Escriba aquí su código\n",
    "class Vehiculo:\n",
    "    def __init__ (self, matricula):\n",
    "        self.matricula = matricula\n",
    "        \n",
    "    def __str__ (self):\n",
    "        return \"Vehiculo: \"+str(self.matricula)\n",
    "        \n",
    "    def getMatricula (self):\n",
    "        return self.matricula"
   ]
  },
  {
   "cell_type": "markdown",
   "metadata": {},
   "source": [
    "<p>\n",
    "2.1 Implemente la clase Tramo que tendrá las siguientes funciones: \n",
    "<ul>\n",
    "    <li>entraVehiculo, admite un objeto de la clase vehículo como parámetro de entrada</li>\n",
    "    <li>saleVehiculo, admite dos parametros como entradas, un objeto de la clase vehículo y el tiempo en segundos que ha permanecido en el tramo</li>\n",
    "    <li>imprimeVehiculosDentro: Imprime por pantalla los vehículos que han entrado y que todavía no han salido </li>\n",
    "    <li>imprimeVehiculosMultados: Imprime todos los vehículos que han superado la velocidad permitida. Una vez llamamoso a esta función vaciamos la lista de vehículos multados</li>\n",
    "</ul>\n",
    "    \n",
    "2.2 Para crear un Tramo, se proporcionará en su función constructora dos parámetros, longitud del tramo en metros y velocidad maxima permitida en km/h\n",
    "    </p>"
   ]
  },
  {
   "cell_type": "code",
   "execution_count": 57,
   "metadata": {},
   "outputs": [],
   "source": [
    "#Escriba aquí su código\n",
    "class Tramo:\n"
   ]
  },
  {
   "cell_type": "markdown",
   "metadata": {},
   "source": [
    "<p>\n",
    "2.3: Comprueba con los siguientes códigos el comportamiento con los siguientes vehículos, y <strong>añada alguno más</strong></p>"
   ]
  },
  {
   "cell_type": "code",
   "execution_count": 62,
   "metadata": {},
   "outputs": [],
   "source": [
    "#Escriba aquí su código\n",
    "tramo1 = Tramo(1000, 120) #Tramo de 1 km y velocidad maxima 120 km/h\n",
    "v1 = Vehiculo(\"1111A\")\n",
    "v2 = Vehiculo(\"2222B\")"
   ]
  },
  {
   "cell_type": "code",
   "execution_count": null,
   "metadata": {},
   "outputs": [],
   "source": [
    "tramo1.imprimeVehiculosDentro() #no debería aparecer ningún vehículo\n",
    "tramo1.entraVehiculo(v1)\n",
    "tramo1.imprimeVehiculosDentro() #debería aparecer dentro\n",
    "tramo1.saleVehiculo(v1,30)  #no debería multarse, ya que va a 120 km/h\n",
    "tramo1.imprimeVehiculosMultados()  #ninguno"
   ]
  },
  {
   "cell_type": "code",
   "execution_count": null,
   "metadata": {},
   "outputs": [],
   "source": [
    "tramo1.entraVehiculo(v2)\n",
    "tramo1.imprimeVehiculosDentro() #debería aparecer dentro\n",
    "tramo1.saleVehiculo(v2,25)  #sí debería multarse, ya que va a 144 km/h\n",
    "tramo1.imprimeVehiculosMultados()  #debería aparecer el coche 2222B como multado\n",
    "tramo1.imprimeVehiculosDentro() #no debería aparecer ningún vehículo"
   ]
  }
 ],
 "metadata": {
  "kernelspec": {
   "display_name": "Python 3 (ipykernel)",
   "language": "python",
   "name": "python3"
  },
  "language_info": {
   "codemirror_mode": {
    "name": "ipython",
    "version": 3
   },
   "file_extension": ".py",
   "mimetype": "text/x-python",
   "name": "python",
   "nbconvert_exporter": "python",
   "pygments_lexer": "ipython3",
   "version": "3.9.5"
  }
 },
 "nbformat": 4,
 "nbformat_minor": 4
}
