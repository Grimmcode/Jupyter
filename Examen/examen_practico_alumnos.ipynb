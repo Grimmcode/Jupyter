{
 "cells": [
  {
   "cell_type": "markdown",
   "metadata": {},
   "source": [
    "<h2> Examen de python, parte práctica en notebook: Tiempo 60 minutos</h2>"
   ]
  },
  {
   "cell_type": "markdown",
   "metadata": {},
   "source": [
    "<h2> Ejercicio 1</h2>\n",
    "Tiempo estimado 15 minutos"
   ]
  },
  {
   "cell_type": "markdown",
   "metadata": {},
   "source": [
    "Cree un programa con dos funciones: <br/>\n",
    "La función <i> lineaMasGrande </i> admite como entrada el nombre de un fichero de texto e imprime la linea de mayor longitud dentro de ese fichero <br/>\n",
    "La función <i>lineaMasPequena </i> admite como entrada el nombre de un fichero de texto e imprime la linea de menor longitud dentro de ese fichero de texto. <br/>\n",
    "<p>\n",
    "Para probar el programa cree un fichero de texto mediante la función write() de python, según se ha visto en practica 4.2 de clase y escriba varias lineas. <br/>\n",
    "Luego invoque las funciones lineaMasGrande y lineaMasPequena para probar que el programa funciona correctamente.\n",
    "</p>"
   ]
  },
  {
   "cell_type": "code",
   "execution_count": 2,
   "metadata": {},
   "outputs": [],
   "source": [
    "#Escriba aquí su código\n",
    "def lineaMasGrande():\n",
    "    with open(filename) as f_obj:\n",
    "        lines = f_obj.readlines()\n",
    "    for line in lines:\n",
    "         print(line.rstrip())\n",
    "\n",
    "\n",
    "    \n",
    "def lineaMasPequeña():\n",
    "        with open(filename) as f_obj:\n",
    "            print(f.readline())\n",
    "    \n",
    "filename = 'programming.txt'\n",
    "with open(filename, 'a') as f:\n",
    "    f.write(\"I also love working with data.\\n\")\n",
    "    f.write(\"I love making apps as well.\\n\")\n"
   ]
  },
  {
   "cell_type": "markdown",
   "metadata": {},
   "source": [
    "<h2> Ejercicio 2</h2> Tiempo estimado 45 minutos"
   ]
  },
  {
   "cell_type": "markdown",
   "metadata": {},
   "source": [
    "<p>Se desea modelar las caraterísticas de las plantillas de empleados que tienen varias empresas, y se decide hacer un código de python para registrar empresas y empleados, con sus datos personales. Se implementarán las clases Empresa y Empleado y se definirán métodos para contratar y despedir empleados en una empresa y comprobar qué empleados tienen los sueldos más altos y más bajos. Responda a los siguientes apartados:"
   ]
  },
  {
   "cell_type": "markdown",
   "metadata": {},
   "source": [
    "<p>\n",
    "2.1 Defina la clase Empleado, que tendrá un constructor donde podremos introducir sus datos personales: dni, nombre, salario. Defina también la función __str__ para que cuando imprimamos un objeto de la clase Empleado aparezca una frase del tipo: <strong> El empleado Jaimito Perez con DNI: 012345678B</strong>, sustituyendo por supuesto el nombre, apellido y dni para los datos del empleado.</p>"
   ]
  },
  {
   "cell_type": "code",
   "execution_count": 1,
   "metadata": {},
   "outputs": [
    {
     "name": "stdout",
     "output_type": "stream",
     "text": [
      "El empleado JuanPerez con DNI: 5555555\n"
     ]
    }
   ],
   "source": [
    "#Escriba aquí su código\n",
    "class Empleado:\n",
    "    def __init__(self, dni, nombre, apellido):\n",
    "                self.dni = dni\n",
    "                self.nombre = nombre\n",
    "                self.apellido = apellido\n",
    "                \n",
    "    def  __str__ (self):\n",
    "            return \"El empleado \"+self.nombre+self.apellido+\" con DNI: \"+str(self.dni)\n",
    "juan=Empleado(5555555,\"Juan\",\"Perez\")\n",
    "print(juan)"
   ]
  },
  {
   "cell_type": "markdown",
   "metadata": {},
   "source": [
    "<p>\n",
    "2.2 Defina la clase Empresa con las siguientes funciones\n",
    "<ul>\n",
    "    <li>Un constructor que recoja el nombre de la empresa y la ciudad donde se encuentra</li>\n",
    "    <li>Una función contrataEmpleado, que admita como entrada un objeto Empleado, y un salario</li>\n",
    "    <li>Una función despideEmpleado, que admita como entrada un objeto Empleado</li>\n",
    "</ul></p>"
   ]
  },
  {
   "cell_type": "code",
   "execution_count": 18,
   "metadata": {},
   "outputs": [],
   "source": [
    "#Escriba aquí su código\n",
    "class Empresa:\n",
    "    def __init__(self, nombre,ciudad):\n",
    "                self.nombre = nombre\n",
    "                self.cuidad = ciudad\n",
    "                self.empleados=[]\n",
    "    def contrataEmpleado(self,empleado,salario):\n",
    "                self.empleados.append (empleado)\n",
    "                empleado.salario = salario\n",
    "    def despideEmpleado(self,empleado):\n",
    "                 empleado.salario = 0\n",
    "                 self.empleados.remove = empleado\n",
    "    def mejorPagado(self): \n",
    "            mejorsalario=-1\n",
    "            mejorpagado=''\n",
    "            for empleado in self.empleados:\n",
    "                 if (empleado.salario>mejorsalario):   \n",
    "                        mejorsalario=empleado.salario\n",
    "                        mejorpagado=empleado\n",
    "            print(str(mejorpagado)+'tiene sueldo de '+str(mejorsalario)+' en empresa '+str(self.nombre))\n",
    "    def peorSueldoDelMundo(self):\n",
    "        self.empleado.sort(reverse=False, key=lambda e: e.salario)\n",
    "        return self.empleados[0]"
   ]
  },
  {
   "cell_type": "markdown",
   "metadata": {},
   "source": [
    "<p>\n",
    "Utilizando las clases anteriores, creamos tres empresas: Carto, ESRI e Indra y ocho empleados en total. Invacamos a la función contrataEmpleado para asignarles una empresa y un salario.\n",
    "   </p>"
   ]
  },
  {
   "cell_type": "code",
   "execution_count": 15,
   "metadata": {},
   "outputs": [],
   "source": [
    "#Escriba aquí su código\n",
    "carto = Empresa (\"Carto\",\"Madrid\")\n",
    "esri = Empresa (\"ESRI\", \"San Francisco\")\n",
    "indra = Empresa (\"Indra\", \"Barcelona\")\n",
    "\n",
    "e1 = Empleado (1, \"a\", \"a\")\n",
    "e2 = Empleado (2, \"b\", \"b\")\n",
    "e3 = Empleado (3, \"c\", \"c\")\n",
    "e4 = Empleado (4, \"d\", \"d\")\n",
    "e5 = Empleado (5, \"e\", \"e\")\n",
    "e6 = Empleado (6, \"f\", \"f\")\n",
    "e7 = Empleado (7, \"g\", \"g\")\n",
    "e8 = Empleado (8, \"h\", \"h\")\n",
    "\n",
    "carto.contrataEmpleado (e1, 10000)\n",
    "carto.contrataEmpleado (e2, 20000)\n",
    "carto.contrataEmpleado (e3, 30000)\n",
    "\n",
    "esri.contrataEmpleado (e4, 40000)\n",
    "esri.contrataEmpleado (e5, 50000)\n",
    "esri.contrataEmpleado (e6, 60000)\n",
    "\n",
    "indra.contrataEmpleado (e7, 6000)\n",
    "indra.contrataEmpleado (e8, 70000)"
   ]
  },
  {
   "cell_type": "markdown",
   "metadata": {},
   "source": [
    "<p>\n",
    "2.3: Defina dos funciones más en la clase Empresa. para ello, utilice la caja de código del apartado 2.2\n",
    "    <ul>\n",
    "    <li>La función mejorPagado que imprima el mensaje El empleado Jaimito Perez con DNI: 012345678B tiene un sueldo de 18000 € en la empresa ESRI, sustituyendo los datos por los propios del empleado <strong> y reutilizando el __str__ de la clase Empleado </strong>  </li>\n",
    "    <li>La función peorSueldoDelMundo que admite una lista de empresas e imprime el empleado que tiene el salario más bajo del conjunto de empresas, de la forma: El empleado Jaimito Perez con DNI: 012345678B tiene un sueldo de 1000 € en la empresa ESRI, sustituyendo los datos por los propios del empleado <strong> y reutilizando el __str__ de la clase Empleado </strong> </li>\n",
    "\n",
    "</ul>\n",
    "Utilice estas funciones para descubrir el empleado mejor pagado de alguna de las empresas que ha creado, y el empleado peor pagado de entre las tres empresas, puede utilizar este código de ejemplo. Compruebe que el resultado de ejecutar el código es igual al comentario en la línea correspondiente.\n",
    "   </p>"
   ]
  },
  {
   "cell_type": "code",
   "execution_count": 19,
   "metadata": {},
   "outputs": [
    {
     "name": "stdout",
     "output_type": "stream",
     "text": [
      "El empleado cc con DNI: 3tiene sueldo de 30000 en empresa Carto\n",
      "El empleado ff con DNI: 6tiene sueldo de 60000 en empresa ESRI\n",
      "El empleado hh con DNI: 8tiene sueldo de 70000 en empresa Indra\n"
     ]
    },
    {
     "ename": "AttributeError",
     "evalue": "'list' object has no attribute 'empleados'",
     "output_type": "error",
     "traceback": [
      "\u001b[1;31m---------------------------------------------------------------------------\u001b[0m",
      "\u001b[1;31mAttributeError\u001b[0m                            Traceback (most recent call last)",
      "\u001b[1;32m~\\AppData\\Local\\Temp/ipykernel_588/545989590.py\u001b[0m in \u001b[0;36m<module>\u001b[1;34m\u001b[0m\n\u001b[0;32m      3\u001b[0m \u001b[0mesri\u001b[0m\u001b[1;33m.\u001b[0m\u001b[0mmejorPagado\u001b[0m\u001b[1;33m(\u001b[0m\u001b[1;33m)\u001b[0m \u001b[1;31m#debe mostrar: El empleado f f con DNI: 6 tiene un sueldo de 60000 € en la empresa ESRI\u001b[0m\u001b[1;33m\u001b[0m\u001b[1;33m\u001b[0m\u001b[0m\n\u001b[0;32m      4\u001b[0m \u001b[0mindra\u001b[0m\u001b[1;33m.\u001b[0m\u001b[0mmejorPagado\u001b[0m\u001b[1;33m(\u001b[0m\u001b[1;33m)\u001b[0m \u001b[1;31m#debe mostrar: El empleado h h con DNI: 8 tiene un sueldo de 70000 € en la empresa Indra\u001b[0m\u001b[1;33m\u001b[0m\u001b[1;33m\u001b[0m\u001b[0m\n\u001b[1;32m----> 5\u001b[1;33m \u001b[0mEmpresa\u001b[0m\u001b[1;33m.\u001b[0m\u001b[0mpeorSueldoDelMundo\u001b[0m \u001b[1;33m(\u001b[0m\u001b[1;33m[\u001b[0m\u001b[0mcarto\u001b[0m\u001b[1;33m,\u001b[0m \u001b[0mesri\u001b[0m\u001b[1;33m,\u001b[0m \u001b[0mindra\u001b[0m\u001b[1;33m]\u001b[0m\u001b[1;33m)\u001b[0m \u001b[1;31m#debe mostrar: El empleado g g con DNI: 7 tiene el peor sueldo del mundo: 6000 € en la empresa Indra\u001b[0m\u001b[1;33m\u001b[0m\u001b[1;33m\u001b[0m\u001b[0m\n\u001b[0m\u001b[0;32m      6\u001b[0m \u001b[0mindra\u001b[0m\u001b[1;33m.\u001b[0m\u001b[0mdespideEmpleado\u001b[0m \u001b[1;33m(\u001b[0m\u001b[0me7\u001b[0m\u001b[1;33m)\u001b[0m\u001b[1;33m\u001b[0m\u001b[1;33m\u001b[0m\u001b[0m\n\u001b[0;32m      7\u001b[0m \u001b[0mEmpresa\u001b[0m\u001b[1;33m.\u001b[0m\u001b[0mpeorSueldoDelMundo\u001b[0m \u001b[1;33m(\u001b[0m\u001b[1;33m[\u001b[0m\u001b[0mcarto\u001b[0m\u001b[1;33m,\u001b[0m \u001b[0mesri\u001b[0m\u001b[1;33m,\u001b[0m \u001b[0mindra\u001b[0m\u001b[1;33m]\u001b[0m\u001b[1;33m)\u001b[0m \u001b[1;31m#debe mostrar:El empleado a a con DNI: 1 tiene el peor sueldo del mundo: 10000 € en la empresa Carto\u001b[0m\u001b[1;33m\u001b[0m\u001b[1;33m\u001b[0m\u001b[0m\n",
      "\u001b[1;32m~\\AppData\\Local\\Temp/ipykernel_588/1401419240.py\u001b[0m in \u001b[0;36mpeorSueldoDelMundo\u001b[1;34m(self)\u001b[0m\n\u001b[0;32m     20\u001b[0m             \u001b[0mprint\u001b[0m\u001b[1;33m(\u001b[0m\u001b[0mstr\u001b[0m\u001b[1;33m(\u001b[0m\u001b[0mmejorpagado\u001b[0m\u001b[1;33m)\u001b[0m\u001b[1;33m+\u001b[0m\u001b[1;34m'tiene sueldo de '\u001b[0m\u001b[1;33m+\u001b[0m\u001b[0mstr\u001b[0m\u001b[1;33m(\u001b[0m\u001b[0mmejorsalario\u001b[0m\u001b[1;33m)\u001b[0m\u001b[1;33m+\u001b[0m\u001b[1;34m' en empresa '\u001b[0m\u001b[1;33m+\u001b[0m\u001b[0mstr\u001b[0m\u001b[1;33m(\u001b[0m\u001b[0mself\u001b[0m\u001b[1;33m.\u001b[0m\u001b[0mnombre\u001b[0m\u001b[1;33m)\u001b[0m\u001b[1;33m)\u001b[0m\u001b[1;33m\u001b[0m\u001b[1;33m\u001b[0m\u001b[0m\n\u001b[0;32m     21\u001b[0m     \u001b[1;32mdef\u001b[0m \u001b[0mpeorSueldoDelMundo\u001b[0m\u001b[1;33m(\u001b[0m\u001b[0mself\u001b[0m\u001b[1;33m)\u001b[0m\u001b[1;33m:\u001b[0m\u001b[1;33m\u001b[0m\u001b[1;33m\u001b[0m\u001b[0m\n\u001b[1;32m---> 22\u001b[1;33m         \u001b[0mself\u001b[0m\u001b[1;33m.\u001b[0m\u001b[0mempleados\u001b[0m\u001b[1;33m.\u001b[0m\u001b[0msort\u001b[0m\u001b[1;33m(\u001b[0m\u001b[0mreverse\u001b[0m\u001b[1;33m=\u001b[0m\u001b[1;32mFalse\u001b[0m\u001b[1;33m,\u001b[0m \u001b[0mkey\u001b[0m\u001b[1;33m=\u001b[0m\u001b[1;32mlambda\u001b[0m \u001b[0me\u001b[0m\u001b[1;33m:\u001b[0m \u001b[0me\u001b[0m\u001b[1;33m.\u001b[0m\u001b[0msalario\u001b[0m\u001b[1;33m)\u001b[0m\u001b[1;33m\u001b[0m\u001b[1;33m\u001b[0m\u001b[0m\n\u001b[0m\u001b[0;32m     23\u001b[0m         \u001b[1;32mreturn\u001b[0m \u001b[0mself\u001b[0m\u001b[1;33m.\u001b[0m\u001b[0mempleados\u001b[0m\u001b[1;33m[\u001b[0m\u001b[1;36m0\u001b[0m\u001b[1;33m]\u001b[0m\u001b[1;33m\u001b[0m\u001b[1;33m\u001b[0m\u001b[0m\n",
      "\u001b[1;31mAttributeError\u001b[0m: 'list' object has no attribute 'empleados'"
     ]
    }
   ],
   "source": [
    "#Escriba su código aqu\n",
    "carto.mejorPagado() #debe mostrar: El empleado c c con DNI: 3 tiene un sueldo de 30000 € en la empresa Carto\n",
    "esri.mejorPagado() #debe mostrar: El empleado f f con DNI: 6 tiene un sueldo de 60000 € en la empresa ESRI\n",
    "indra.mejorPagado() #debe mostrar: El empleado h h con DNI: 8 tiene un sueldo de 70000 € en la empresa Indra \n",
    "Empresa.peorSueldoDelMundo ([carto, esri, indra]) #debe mostrar: El empleado g g con DNI: 7 tiene el peor sueldo del mundo: 6000 € en la empresa Indra \n",
    "indra.despideEmpleado (e7)\n",
    "Empresa.peorSueldoDelMundo ([carto, esri, indra]) #debe mostrar:El empleado a a con DNI: 1 tiene el peor sueldo del mundo: 10000 € en la empresa Carto"
   ]
  },
  {
   "cell_type": "code",
   "execution_count": null,
   "metadata": {},
   "outputs": [],
   "source": []
  }
 ],
 "metadata": {
  "kernelspec": {
   "display_name": "Python 3 (ipykernel)",
   "language": "python",
   "name": "python3"
  },
  "language_info": {
   "codemirror_mode": {
    "name": "ipython",
    "version": 3
   },
   "file_extension": ".py",
   "mimetype": "text/x-python",
   "name": "python",
   "nbconvert_exporter": "python",
   "pygments_lexer": "ipython3",
   "version": "3.9.5"
  }
 },
 "nbformat": 4,
 "nbformat_minor": 4
}
