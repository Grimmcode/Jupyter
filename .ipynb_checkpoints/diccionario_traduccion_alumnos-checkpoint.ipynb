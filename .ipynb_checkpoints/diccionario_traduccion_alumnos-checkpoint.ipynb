{
 "cells": [
  {
   "cell_type": "markdown",
   "metadata": {},
   "source": [
    "<h2> Examen de python, Ejercicio 1: Tiempo 40 minutos</h2>"
   ]
  },
  {
   "cell_type": "markdown",
   "metadata": {},
   "source": [
    "<h2> Ejercicio 1</h2>"
   ]
  },
  {
   "cell_type": "markdown",
   "metadata": {},
   "source": [
    "Escribir un programa que cree un diccionario de traducción español-inglés, a través de la creación de una estructura de datos y de dos funciones."
   ]
  },
  {
   "cell_type": "markdown",
   "metadata": {},
   "source": [
    "1.1 Se definirá una estructura de datos para guardar el diccionario"
   ]
  },
  {
   "cell_type": "code",
   "execution_count": 2,
   "metadata": {},
   "outputs": [],
   "source": [
    "#Escriba aquí su código\n",
    "diccionario = {}"
   ]
  },
  {
   "cell_type": "markdown",
   "metadata": {},
   "source": [
    "1.2 A continuación se definirá una función que le permitirá al usuario introducir palabras en el diccionario. Esa función será invocada incluyendo como único argumento un string con las palabras en español e inglés separadas por dos puntos, y cada par <i><code>palabra:traducción</code></i> separados por comas, es decir: <i><code>palabra1:traducción1,palabra2:traducción2,palabra3:traducción3</code></i>. El usuario podrá llamar a esa función tantas veces como desée, y la función se encargará de guardar las palabras y su traducción en inglés en el diccionario."
   ]
  },
  {
   "cell_type": "code",
   "execution_count": 13,
   "metadata": {},
   "outputs": [
    {
     "name": "stdin",
     "output_type": "stream",
     "text": [
      "Introduce la lista de palabras y traducciones en formato palabra:traducción separadas por puntos:  nieve:snow\n"
     ]
    }
   ],
   "source": [
    "def insertar():\n",
    "    palabras = input(\"Introduce la lista de palabras y traducciones en formato palabra:traducción separadas por puntos: \")\n",
    "    for i in palabras.split(','):\n",
    "        clave, valor = i.split(':')\n",
    "        diccionario[clave] = valor\n",
    "insertar()\n"
   ]
  },
  {
   "cell_type": "markdown",
   "metadata": {},
   "source": [
    "1.2 Se definirá otra función que le permitirá al usuario traducir una frase de español a inglés. Esta función le permitirá al usuario introducir por teclado (input) una frase en español, y ofrecerá un print de la frase en inglés. Si una palabra no está en el diccionario debe aparecer también, pero sin traducir."
   ]
  },
  {
   "cell_type": "code",
   "execution_count": 11,
   "metadata": {},
   "outputs": [
    {
     "name": "stdin",
     "output_type": "stream",
     "text": [
      "Introduce una frase en español:  blancas\n"
     ]
    },
    {
     "name": "stdout",
     "output_type": "stream",
     "text": [
      "white "
     ]
    }
   ],
   "source": [
    "#Escriba aquí su código\n",
    "def traduccion():\n",
    "    frase = input('Introduce una frase en español: ')\n",
    "    for i in frase.split():\n",
    "        if i in diccionario:\n",
    "            print(diccionario[i], end=' ')\n",
    "        else:\n",
    "            print(i, end=' ')\n",
    "traduccion()            "
   ]
  },
  {
   "cell_type": "markdown",
   "metadata": {},
   "source": [
    "1.3 Introduce en el diccionario información suficiente para que traduzca correctamente la frase \"blancas bolas de nieve\"\n"
   ]
  },
  {
   "cell_type": "code",
   "execution_count": 14,
   "metadata": {},
   "outputs": [
    {
     "name": "stdin",
     "output_type": "stream",
     "text": [
      "Introduce una frase en español:  blancas bolas de nieve\n"
     ]
    },
    {
     "name": "stdout",
     "output_type": "stream",
     "text": [
      "white balls of snow "
     ]
    }
   ],
   "source": [
    "#Escriba aquí su código\n",
    "traduccion()\n"
   ]
  },
  {
   "cell_type": "code",
   "execution_count": null,
   "metadata": {},
   "outputs": [],
   "source": []
  }
 ],
 "metadata": {
  "kernelspec": {
   "display_name": "Python 3",
   "language": "python",
   "name": "python3"
  },
  "language_info": {
   "codemirror_mode": {
    "name": "ipython",
    "version": 3
   },
   "file_extension": ".py",
   "mimetype": "text/x-python",
   "name": "python",
   "nbconvert_exporter": "python",
   "pygments_lexer": "ipython3",
   "version": "3.9.4"
  }
 },
 "nbformat": 4,
 "nbformat_minor": 4
}
