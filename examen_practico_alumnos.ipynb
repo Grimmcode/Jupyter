{
 "cells": [
  {
   "cell_type": "markdown",
   "metadata": {},
   "source": [
    "<h2> Examen de python, parte práctica: Tiempo 60 minutos</h2>"
   ]
  },
  {
   "cell_type": "markdown",
   "metadata": {},
   "source": [
    "<h2> Ejercicio 1</h2>"
   ]
  },
  {
   "cell_type": "markdown",
   "metadata": {},
   "source": [
    "1.1 Escribir una función guarda_tabla_n, que acepta como entrada un número entero 'n' entre 1 y 10 y guarde en un fichero con el nombre multiplicar-n.txt la tabla de multiplicar de ese número, donde n es el número introducido. Si n no es un número entero o si no está en el rango correcto, debe mostrar un mensaje por pantalla informando del error."
   ]
  },
  {
   "cell_type": "code",
   "execution_count": 42,
   "metadata": {},
   "outputs": [],
   "source": [
    "def guarda_tabla_n(numero):\n",
    "    if numero < 0 or numero >10:\n",
    "        print('error')\n",
    "    else:\n",
    "        with open('multiplicar-'+str(numero)+'.txt','w') as file:\n",
    "            for i in range(11):\n",
    "                file.write(str(numero)+'x'+str(i)+'='+str(numero*i)+'\\n')\n",
    "guarda_tabla_n(2)"
   ]
  },
  {
   "cell_type": "markdown",
   "metadata": {},
   "source": [
    "1.2 Escribir una función obten_multiplicacion que pida dos números n y m entre 1 y 10, lea el fichero multiplicar-n.txt con la tabla de multiplicar de ese número, y muestre por pantalla la línea m del fichero. Si 'n' y 'm' no están en los rangos correctos debe mostrar un mensaje por pantalla informando de ello. Si el fichero no existe debe crearlo llamando a la función guarda_tabla_n y proseguir con la ejecución normal de la función.\n"
   ]
  },
  {
   "cell_type": "code",
   "execution_count": 43,
   "metadata": {},
   "outputs": [
    {
     "name": "stdin",
     "output_type": "stream",
     "text": [
      "Introduce un número entero entre 1 y 10:  2\n",
      "Introduce otro número entero entre 1 y 10:  2\n"
     ]
    },
    {
     "name": "stdout",
     "output_type": "stream",
     "text": [
      "2x2=4\n",
      "\n"
     ]
    }
   ],
   "source": [
    "n = int(input('Introduce un número entero entre 1 y 10: '))\n",
    "m = int(input('Introduce otro número entero entre 1 y 10: '))\n",
    "file_name = 'multiplicar-'+str(n)+'.txt'\n",
    "if (n < 0 or n > 10) or (m < 0 or m > 10):\n",
    "        print('error boundary')\n",
    "else:\n",
    "        try:\n",
    "               f = open(file_name, 'r')\n",
    "        except FileNotFoundError:\n",
    "                print('No existe el fichero con la tabla del ', n)\n",
    "                guarda_tabla_n(n)\n",
    "                f = open(file_name, 'r')\n",
    "lines = f.readlines()\n",
    "print(lines[m])"
   ]
  },
  {
   "cell_type": "markdown",
   "metadata": {},
   "source": [
    "<h2> Ejercicio 2</h2>"
   ]
  },
  {
   "cell_type": "markdown",
   "metadata": {},
   "source": [
    "<p>\n",
    "    Se desea modelar el funcionamiento (de forma simplificada) de un <strong>radar de tramo</strong>. La principal característica que presentan estos tipos de radares frente a los tradicionales consiste en que para comprobar si un vehículo ha superado el límite de velocidad calculan si la velocidad media de un vehículo, a lo largo del tramo de calzada que están vigilando, ha superado el límite de  velocidad establecido. Para ello, toman fotos y miden el tiempo en los instantes en los que los vehículos entran y salen del tramo (un túnel, por ejemplo).</p>"
   ]
  },
  {
   "cell_type": "markdown",
   "metadata": {},
   "source": [
    "<p>\n",
    "Tenemos la clase Vehículo, que nos permite crear objetos de tipo vehículo.</p>"
   ]
  },
  {
   "cell_type": "code",
   "execution_count": 44,
   "metadata": {},
   "outputs": [],
   "source": [
    "#Escriba aquí su código\n",
    "class Vehiculo:\n",
    "    def __init__ (self, matricula):\n",
    "        self.matricula = matricula\n",
    "        \n",
    "    def __str__ (self):\n",
    "        return \"Vehiculo: \"+str(self.matricula)\n",
    "        \n",
    "    def getMatricula (self):\n",
    "        return self.matricula"
   ]
  },
  {
   "cell_type": "markdown",
   "metadata": {},
   "source": [
    "<p>\n",
    "2.1 Implemente la clase Tramo que tendrá las siguientes funciones: \n",
    "<ul>\n",
    "    <li>entraVehiculo, admite un objeto de la clase vehículo como parámetro de entrada</li>\n",
    "    <li>saleVehiculo, admite dos parametros como entradas, un objeto de la clase vehículo y el tiempo en segundos que ha permanecido en el tramo</li>\n",
    "    <li>imprimeVehiculosDentro: Imprime por pantalla los vehículos que han entrado y que todavía no han salido </li>\n",
    "    <li>imprimeVehiculosMultados: Imprime todos los vehículos que han superado la velocidad permitida. Una vez llamamoso a esta función vaciamos la lista de vehículos multados</li>\n",
    "</ul>\n",
    "    \n",
    "2.2 Para crear un Tramo, se proporcionará en su función constructora dos parámetros, longitud del tramo en metros y velocidad maxima permitida en km/h\n",
    "    </p>"
   ]
  },
  {
   "cell_type": "code",
   "execution_count": 45,
   "metadata": {},
   "outputs": [
    {
     "ename": "SyntaxError",
     "evalue": "invalid syntax (<ipython-input-45-46775639c519>, line 22)",
     "output_type": "error",
     "traceback": [
      "\u001b[1;36m  File \u001b[1;32m\"<ipython-input-45-46775639c519>\"\u001b[1;36m, line \u001b[1;32m22\u001b[0m\n\u001b[1;33m    if\u001b[0m\n\u001b[1;37m       ^\u001b[0m\n\u001b[1;31mSyntaxError\u001b[0m\u001b[1;31m:\u001b[0m invalid syntax\n"
     ]
    }
   ],
   "source": [
    "#Escriba aquí su código\n",
    "class Tramo:\n",
    "\n",
    "    def _init_(self,longitud,velocidad):\n",
    "        self.longitud = longitud\n",
    "        self.velocidad = velocidad\n",
    "        self.log = []\n",
    "    \n",
    "    def _str_(self):\n",
    "        return \"Tramo de \" + str(self.longitud) + \" y maxima velocidad de \" + str(self.velocidad)\n",
    "\n",
    "    def entraVehiculo(self, Vehiculo):\n",
    "        self.log.append(Vehiculo.getMatricula())\n",
    "\n",
    "    def saleVehiculo(self, Vehiculo, tiempo):\n",
    "        self.log.remove(Vehiculo.getMatricula())\n",
    "\n",
    "    def imprimeVehiculosDentro(self):\n",
    "        print(self.log)\n",
    "\n",
    "    def imprimeVehiculosMultados(self):\n",
    "        if \n",
    "        self.log.clear()"
   ]
  },
  {
   "cell_type": "markdown",
   "metadata": {},
   "source": [
    "<p>\n",
    "2.3: Comprueba con los siguientes códigos el comportamiento con los siguientes vehículos, y <strong>añada alguno más</strong></p>"
   ]
  },
  {
   "cell_type": "code",
   "execution_count": 12,
   "metadata": {},
   "outputs": [],
   "source": [
    "#Escriba aquí su código\n",
    "tramo1 = Tramo(1000, 120) #Tramo de 1 km y velocidad maxima 120 km/h\n",
    "v1 = Vehiculo(\"1111A\")\n",
    "v2 = Vehiculo(\"2222B\")"
   ]
  },
  {
   "cell_type": "code",
   "execution_count": 20,
   "metadata": {},
   "outputs": [
    {
     "name": "stdout",
     "output_type": "stream",
     "text": [
      "[]\n",
      "['1111A', '2222B']\n",
      "['2222B']\n"
     ]
    }
   ],
   "source": [
    "tramo1.imprimeVehiculosDentro() #no debería aparecer ningún vehículo\n",
    "tramo1.entraVehiculo(v1)\n",
    "tramo1.entraVehiculo(v2)\n",
    "tramo1.imprimeVehiculosDentro() #debería aparecer dentro\n",
    "tramo1.saleVehiculo(v1,30)\n",
    "tramo1.imprimeVehiculosDentro()  #no debería multarse, ya que va a 120 km/h\n",
    "tramo1.imprimeVehiculosMultados()  #ninguno"
   ]
  },
  {
   "cell_type": "code",
   "execution_count": null,
   "metadata": {},
   "outputs": [],
   "source": [
    "tramo1.entraVehiculo(v2)\n",
    "tramo1.imprimeVehiculosDentro() #debería aparecer dentro\n",
    "tramo1.saleVehiculo(v2,25)  #sí debería multarse, ya que va a 144 km/h\n",
    "tramo1.imprimeVehiculosMultados()  #debería aparecer el coche 2222B como multado\n",
    "tramo1.imprimeVehiculosDentro() #no debería aparecer ningún vehículo"
   ]
  }
 ],
 "metadata": {
  "interpreter": {
   "hash": "aee8b7b246df8f9039afb4144a1f6fd8d2ca17a180786b69acc140d282b71a49"
  },
  "kernelspec": {
   "display_name": "Python 3 (ipykernel)",
   "language": "python",
   "name": "python3"
  },
  "language_info": {
   "codemirror_mode": {
    "name": "ipython",
    "version": 3
   },
   "file_extension": ".py",
   "mimetype": "text/x-python",
   "name": "python",
   "nbconvert_exporter": "python",
   "pygments_lexer": "ipython3",
   "version": "3.9.5"
  }
 },
 "nbformat": 4,
 "nbformat_minor": 4
}
